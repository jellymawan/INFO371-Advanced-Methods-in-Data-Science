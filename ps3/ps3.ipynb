{
 "cells": [
  {
   "cell_type": "markdown",
   "id": "822c6e94-7b22-481a-bdcc-2247b7b2753b",
   "metadata": {},
   "source": [
    "# 1. Matrix multiplication (8pt)"
   ]
  },
  {
   "cell_type": "markdown",
   "id": "0094e09d-efee-486b-afa9-588d2967f72c",
   "metadata": {},
   "source": [
    "### 1. (6pt) Multiply these matrices/vectors manually. Show the math you do while solving these.\n",
    "#### Note: you can do this on paper, just include a picture of your solution.\n",
    "##### a. \n",
    "$$\\begin{bmatrix} (0*1)+(7*0) & (0*0)+(7*-1) \\\\ (5*1)+(3*0) & (5*0)+(-1*3) \\end{bmatrix}$$\n",
    "$$\\begin{bmatrix} 0 & -7 \\\\ 5 & -3 \\end{bmatrix}$$\n",
    "##### b. \n",
    "We are not able to multiple the matrices because the columns in the first matrix does not equal the rows in the sexond matrix\n",
    "##### c.\n",
    "$$\\begin{bmatrix} (0*1)+(7*0) & (0*0)+(7*-1) & (0*0)+(7*1) \\\\ (5*1)+(3*0) & (5*0)+(3*-1) & (5*0)+(3*1) \\end{bmatrix}$$\n",
    "$$\\begin{bmatrix} 0 & -7 & 7 \\\\ 5 & -3 & 3 \\end{bmatrix}$$\n",
    "### 2. (2pt) now check your results on computer. You should get the same results."
   ]
  },
  {
   "cell_type": "code",
   "execution_count": 32,
   "id": "702c4723-ed49-44cd-872b-137a47637d43",
   "metadata": {},
   "outputs": [],
   "source": [
    "import numpy as np\n",
    "import pandas as pd\n",
    "import matplotlib.pyplot as plt"
   ]
  },
  {
   "cell_type": "code",
   "execution_count": 33,
   "id": "e3db39bd-7805-4862-b890-6dd657d46f39",
   "metadata": {},
   "outputs": [
    {
     "data": {
      "text/plain": [
       "array([[ 0, -7],\n",
       "       [ 5, -3]])"
      ]
     },
     "execution_count": 33,
     "metadata": {},
     "output_type": "execute_result"
    }
   ],
   "source": [
    "np.array([[0,7],[5,3]]) @ np.array([[1,0],[0,-1]])"
   ]
  },
  {
   "cell_type": "code",
   "execution_count": 34,
   "id": "5c7e0022-5cb9-4354-a19c-e2ba45b39a5f",
   "metadata": {},
   "outputs": [
    {
     "ename": "ValueError",
     "evalue": "matmul: Input operand 1 has a mismatch in its core dimension 0, with gufunc signature (n?,k),(k,m?)->(n?,m?) (size 3 is different from 2)",
     "output_type": "error",
     "traceback": [
      "\u001b[0;31m---------------------------------------------------------------------------\u001b[0m",
      "\u001b[0;31mValueError\u001b[0m                                Traceback (most recent call last)",
      "\u001b[0;32m/tmp/ipykernel_144/2600189887.py\u001b[0m in \u001b[0;36m<module>\u001b[0;34m\u001b[0m\n\u001b[0;32m----> 1\u001b[0;31m \u001b[0mnp\u001b[0m\u001b[0;34m.\u001b[0m\u001b[0marray\u001b[0m\u001b[0;34m(\u001b[0m\u001b[0;34m[\u001b[0m\u001b[0;34m[\u001b[0m\u001b[0;36m0\u001b[0m\u001b[0;34m,\u001b[0m\u001b[0;36m7\u001b[0m\u001b[0;34m]\u001b[0m\u001b[0;34m,\u001b[0m\u001b[0;34m[\u001b[0m\u001b[0;36m5\u001b[0m\u001b[0;34m,\u001b[0m\u001b[0;36m3\u001b[0m\u001b[0;34m]\u001b[0m\u001b[0;34m]\u001b[0m\u001b[0;34m)\u001b[0m \u001b[0;34m@\u001b[0m \u001b[0mnp\u001b[0m\u001b[0;34m.\u001b[0m\u001b[0marray\u001b[0m\u001b[0;34m(\u001b[0m\u001b[0;34m[\u001b[0m\u001b[0;34m[\u001b[0m\u001b[0;36m1\u001b[0m\u001b[0;34m,\u001b[0m\u001b[0;36m0\u001b[0m\u001b[0;34m]\u001b[0m\u001b[0;34m,\u001b[0m\u001b[0;34m[\u001b[0m\u001b[0;36m0\u001b[0m\u001b[0;34m,\u001b[0m\u001b[0;34m-\u001b[0m\u001b[0;36m1\u001b[0m\u001b[0;34m]\u001b[0m\u001b[0;34m,\u001b[0m\u001b[0;34m[\u001b[0m\u001b[0;36m0\u001b[0m\u001b[0;34m,\u001b[0m\u001b[0;36m1\u001b[0m\u001b[0;34m]\u001b[0m\u001b[0;34m]\u001b[0m\u001b[0;34m)\u001b[0m\u001b[0;34m\u001b[0m\u001b[0;34m\u001b[0m\u001b[0m\n\u001b[0m\u001b[1;32m      2\u001b[0m \u001b[0;31m# not possible because number of cols in first matrix != to number of rows in second matrix\u001b[0m\u001b[0;34m\u001b[0m\u001b[0;34m\u001b[0m\u001b[0m\n",
      "\u001b[0;31mValueError\u001b[0m: matmul: Input operand 1 has a mismatch in its core dimension 0, with gufunc signature (n?,k),(k,m?)->(n?,m?) (size 3 is different from 2)"
     ]
    }
   ],
   "source": [
    "np.array([[0,7],[5,3]]) @ np.array([[1,0],[0,-1],[0,1]])\n",
    "# not possible because number of cols in first matrix != to number of rows in second matrix"
   ]
  },
  {
   "cell_type": "code",
   "execution_count": 35,
   "id": "4f813c9f-9e5b-45bd-a969-c272f886e34e",
   "metadata": {},
   "outputs": [
    {
     "data": {
      "text/plain": [
       "array([[ 0, -7,  7],\n",
       "       [ 5, -3,  3]])"
      ]
     },
     "execution_count": 35,
     "metadata": {},
     "output_type": "execute_result"
    }
   ],
   "source": [
    "np.array([[0,7],[5,3]]) @ np.array([[1,0,0],[0,-1,1]])"
   ]
  },
  {
   "cell_type": "markdown",
   "id": "325a7672-d5a7-44f1-8fb7-8de0a6cbd6e6",
   "metadata": {},
   "source": [
    "# 2. Rotate Crazy Hat (21pt)"
   ]
  },
  {
   "cell_type": "markdown",
   "id": "e24e76f4-f6f0-4989-b367-dcc84e2424f5",
   "metadata": {},
   "source": [
    "### 1. (1pt) Read the data points from “crazy_hat.tsv” (available on canvas) from disk."
   ]
  },
  {
   "cell_type": "code",
   "execution_count": 36,
   "id": "ae83db8e-5441-4079-a70d-9a523d0a431a",
   "metadata": {},
   "outputs": [
    {
     "data": {
      "text/html": [
       "<div>\n",
       "<style scoped>\n",
       "    .dataframe tbody tr th:only-of-type {\n",
       "        vertical-align: middle;\n",
       "    }\n",
       "\n",
       "    .dataframe tbody tr th {\n",
       "        vertical-align: top;\n",
       "    }\n",
       "\n",
       "    .dataframe thead th {\n",
       "        text-align: right;\n",
       "    }\n",
       "</style>\n",
       "<table border=\"1\" class=\"dataframe\">\n",
       "  <thead>\n",
       "    <tr style=\"text-align: right;\">\n",
       "      <th></th>\n",
       "      <th>x</th>\n",
       "      <th>y</th>\n",
       "      <th>group</th>\n",
       "    </tr>\n",
       "  </thead>\n",
       "  <tbody>\n",
       "    <tr>\n",
       "      <th>0</th>\n",
       "      <td>0</td>\n",
       "      <td>22</td>\n",
       "      <td>outline</td>\n",
       "    </tr>\n",
       "    <tr>\n",
       "      <th>1</th>\n",
       "      <td>16</td>\n",
       "      <td>-18</td>\n",
       "      <td>outline</td>\n",
       "    </tr>\n",
       "    <tr>\n",
       "      <th>2</th>\n",
       "      <td>-16</td>\n",
       "      <td>-18</td>\n",
       "      <td>outline</td>\n",
       "    </tr>\n",
       "    <tr>\n",
       "      <th>3</th>\n",
       "      <td>0</td>\n",
       "      <td>22</td>\n",
       "      <td>outline</td>\n",
       "    </tr>\n",
       "    <tr>\n",
       "      <th>4</th>\n",
       "      <td>-3</td>\n",
       "      <td>7</td>\n",
       "      <td>leye</td>\n",
       "    </tr>\n",
       "  </tbody>\n",
       "</table>\n",
       "</div>"
      ],
      "text/plain": [
       "    x   y    group\n",
       "0   0  22  outline\n",
       "1  16 -18  outline\n",
       "2 -16 -18  outline\n",
       "3   0  22  outline\n",
       "4  -3   7     leye"
      ]
     },
     "execution_count": 36,
     "metadata": {},
     "output_type": "execute_result"
    }
   ],
   "source": [
    "ch = pd.read_csv(\"../data/crazy-hat.tsv\", sep=\"\\t\") \n",
    "ch.head()"
   ]
  },
  {
   "cell_type": "markdown",
   "id": "c94ae361-4478-4705-a147-efa3bada7a50",
   "metadata": {},
   "source": [
    "### 2. (3pt) Separate data into a coordinate matrix (call this X) and group id-s (call this groups). You can get matrix out of data frame columns with the .values attribute."
   ]
  },
  {
   "cell_type": "code",
   "execution_count": 37,
   "id": "4935311b-3f55-4f0f-a03e-77347f1b2324",
   "metadata": {},
   "outputs": [],
   "source": [
    "X = ch[[\"x\", \"y\"]].values\n",
    "groups = ch.group.values"
   ]
  },
  {
   "cell_type": "markdown",
   "id": "1f109230-b208-401f-b256-079e1f33a5c1",
   "metadata": {},
   "source": [
    "### 3. (5pt) Plot the figure: plot all x-y pairs and sequentially connect the dots. Pay attention to connect correct groups but not to connect wrong groups.\n",
    "#### Hint: you can do this by a loop over unique group values (remember np.unique), and by plotting and connecting only points for this group inside the loop.\n",
    "#### Hint 2: normally data plotting does not care about x/y scales."
   ]
  },
  {
   "cell_type": "code",
   "execution_count": 38,
   "id": "0347327d-edab-458c-ac8d-2b060cf107be",
   "metadata": {},
   "outputs": [
    {
     "data": {
      "image/png": "[encoded data removed]",
      "text/plain": [
       "<Figure size 432x288 with 1 Axes>"
      ]
     },
     "metadata": {
      "needs_background": "light"
     },
     "output_type": "display_data"
    }
   ],
   "source": [
    "ax = plt.axes() \n",
    "u_group = np.unique(groups)\n",
    "for g in u_group:\n",
    "    a = ch[ch.group == g]\n",
    "    ax.set_aspect(\"equal\") \n",
    "    ax.plot(a.x, a.y, marker=\"o\",color=\"black\")"
   ]
  },
  {
   "cell_type": "markdown",
   "id": "6beea2ec-1e98-43ba-a9f3-03a022f19c02",
   "metadata": {},
   "source": [
    "### 4. (4pt) Convert your plotting code into a function that takes two (or more if you wish, like color, image size, etc) arguments: X and groups. Demonstrate that the function works with Crazy Hat data."
   ]
  },
  {
   "cell_type": "code",
   "execution_count": 41,
   "id": "b905d3c8-385d-4629-8059-24fb3506b51d",
   "metadata": {},
   "outputs": [],
   "source": [
    "def plot(X, groups):\n",
    "    ax = plt.axes() \n",
    "    u_group = np.unique(groups)\n",
    "    for g in u_group:\n",
    "        a = X[groups == g]\n",
    "        ax.set_aspect(\"equal\") \n",
    "        ax.plot(a[:,0], a[:,1], marker=\"o\",color=\"black\")"
   ]
  },
  {
   "cell_type": "code",
   "execution_count": 42,
   "id": "396a03b3-b9fa-491c-935e-5475312ce29d",
   "metadata": {},
   "outputs": [
    {
     "data": {
      "image/png": "[encoded data removed]",
      "text/plain": [
       "<Figure size 432x288 with 1 Axes>"
      ]
     },
     "metadata": {
      "needs_background": "light"
     },
     "output_type": "display_data"
    }
   ],
   "source": [
    "plot(X, groups)"
   ]
  },
  {
   "cell_type": "markdown",
   "id": "0d5a27c5-37c8-46d4-9287-a3628b78b863",
   "metadata": {},
   "source": [
    "### 5. (4pt) Now create a function Rot that takes the angle α, and returns the rotation matrix to rotate image by this angle. Check out np.sin, np.cos, and remember that radians = π · degrees/180"
   ]
  },
  {
   "cell_type": "code",
   "execution_count": 43,
   "id": "f5774357-6734-4927-a69e-c97385d5321d",
   "metadata": {},
   "outputs": [],
   "source": [
    "def Rot(alpha):\n",
    "    a = alpha*np.pi/180\n",
    "    ca = np.cos(a)\n",
    "    sa = np.sin(a)\n",
    "    return np.array([[ca, -sa], [sa, ca]])"
   ]
  },
  {
   "cell_type": "markdown",
   "id": "9c13274c-6139-4623-a52e-5adaca02a343",
   "metadata": {},
   "source": [
    "### 6. (4pt) Now rotate the Crazy Hat figure. Select a few different angles of your choice. Remember that matrix multiplication sign is @, not *!"
   ]
  },
  {
   "cell_type": "code",
   "execution_count": 44,
   "id": "918a1075-2380-4b8f-9b6a-3d948d150425",
   "metadata": {},
   "outputs": [
    {
     "data": {
      "image/png": "[encoded data removed]",
      "text/plain": [
       "<Figure size 432x288 with 1 Axes>"
      ]
     },
     "metadata": {
      "needs_background": "light"
     },
     "output_type": "display_data"
    }
   ],
   "source": [
    "plot(X @ Rot(45), groups)"
   ]
  },
  {
   "cell_type": "code",
   "execution_count": 45,
   "id": "60dd1b54-c68a-49d9-99d3-737d6e110837",
   "metadata": {},
   "outputs": [
    {
     "data": {
      "image/png": "[encoded data removed]",
      "text/plain": [
       "<Figure size 432x288 with 1 Axes>"
      ]
     },
     "metadata": {
      "needs_background": "light"
     },
     "output_type": "display_data"
    }
   ],
   "source": [
    "plot(X @ Rot(180), groups)"
   ]
  },
  {
   "cell_type": "markdown",
   "id": "a420145a-dc5b-4710-b123-fa7af798ee63",
   "metadata": {},
   "source": [
    "# 3. Linear transformation of images (26pt)"
   ]
  },
  {
   "cell_type": "markdown",
   "id": "d38eefe0-4699-4d0d-ab58-129a2abce920",
   "metadata": {},
   "source": [
    "## 3.1 Flipping (mirroring) image (13pt)"
   ]
  },
  {
   "cell_type": "markdown",
   "id": "81edfdd7-116f-4b26-b7a3-aa931b1a2ed3",
   "metadata": {},
   "source": [
    "### 1. (6pt) Construct the “flip-x” matrix Fx. It should be a 2 × 2 matrix that inverses the x-components while leaving y-components intact. You can think in terms of generic matrix multiplication.\n",
    "#### Hint: you can take the unit matrix as the point of departure and see which elements you have to modify to get flip-x instead."
   ]
  },
  {
   "cell_type": "code",
   "execution_count": 46,
   "id": "ff613768-da4a-46cd-b561-8faf65a6c7bc",
   "metadata": {},
   "outputs": [],
   "source": [
    "Fx = np.array([[-1,0],[0, 1]]) "
   ]
  },
  {
   "cell_type": "markdown",
   "id": "cc03f912-a579-488e-8a86-41581ab5708d",
   "metadata": {},
   "source": [
    "### 2. (5pt) Why should Fx be a 2 × 2 matrix?\n",
    "#### Hint: try something else, e.g. 2 × 3 or 3 × 2 matrix. What is the result?"
   ]
  },
  {
   "cell_type": "markdown",
   "id": "2b1e8f0c-5125-4755-ad24-9e061fe059ab",
   "metadata": {},
   "source": [
    "Fx can't be a 3x2 matrix because the columns in the first matrix must match the rows in the second matrix. Our first matrix (X) has 2 columns, and this matrix would have 3 rows. These don't match, so it will give out an error.\n",
    "\n",
    "Fx can't be a 2x3 matrix because the result will have 3 data points. For example, instead of only resulting in a (x,y) answer, it becomes an (x,y,z).\n",
    "\n",
    "So, Fx should be a 2x2 matrix."
   ]
  },
  {
   "cell_type": "markdown",
   "id": "5cf63c1f-6085-4779-b8b7-c8af1881c90c",
   "metadata": {},
   "source": [
    "### 3. (2pt) Demonstrate that your Fx flips Crazy Hat image. (Note: Crazy Hat is slightly asymmetric.)"
   ]
  },
  {
   "cell_type": "code",
   "execution_count": 47,
   "id": "adf42a95-0573-4207-ae9d-b04d9840abb7",
   "metadata": {},
   "outputs": [
    {
     "data": {
      "image/png": "[encoded data removed]",
      "text/plain": [
       "<Figure size 432x288 with 1 Axes>"
      ]
     },
     "metadata": {
      "needs_background": "light"
     },
     "output_type": "display_data"
    }
   ],
   "source": [
    "plot(X @ Fx, groups)"
   ]
  },
  {
   "cell_type": "markdown",
   "id": "72a4dbd2-ae90-4993-b81f-ba62eff63090",
   "metadata": {},
   "source": [
    "## 3.2 Stretch image (13pt)\n",
    "### 1. (5pt) Create the “stretch-y” matrix Sy(s) where s is the “stretch factor”, 2 in the example above. Exactly as a above, it should be a 2 × 2 matrix that stretches the y-components while leaving x-components untouched."
   ]
  },
  {
   "cell_type": "code",
   "execution_count": 48,
   "id": "416a5bff-cd82-4918-8d7d-c9b12d6f3d29",
   "metadata": {},
   "outputs": [],
   "source": [
    "def stretchy(factor):\n",
    "    return np.array([[1,0],[0,factor]])"
   ]
  },
  {
   "cell_type": "markdown",
   "id": "cbe865d9-2391-4cc8-9109-224e8673d9a1",
   "metadata": {},
   "source": [
    "### 2. (2pt) Demonstrate that your matrix works correctly by stretching Crazy Hat vertically by factor 2."
   ]
  },
  {
   "cell_type": "code",
   "execution_count": 49,
   "id": "5a906467-7b7c-4b0d-89b3-710ab21fc738",
   "metadata": {},
   "outputs": [
    {
     "data": {
      "image/png": "[encoded data removed]",
      "text/plain": [
       "<Figure size 432x288 with 1 Axes>"
      ]
     },
     "metadata": {
      "needs_background": "light"
     },
     "output_type": "display_data"
    }
   ],
   "source": [
    "plot(X @ stretchy(2), groups)"
   ]
  },
  {
   "cell_type": "markdown",
   "id": "84c85a08-0657-4bd7-a4b0-4675fbf51c82",
   "metadata": {},
   "source": [
    "### 3. (7pt) Finally, let’s combine these transformation. Use Crazy Hat to perform the following operations: flip along the 45◦-line, and stretch it 2× along the 45◦-line (see the example below). I have in mind the 45° line that to SE."
   ]
  },
  {
   "cell_type": "code",
   "execution_count": 50,
   "id": "e8400420-36b7-4e2c-8218-892cc6db59db",
   "metadata": {},
   "outputs": [
    {
     "data": {
      "image/png": "[encoded data removed]",
      "text/plain": [
       "<Figure size 432x288 with 1 Axes>"
      ]
     },
     "metadata": {
      "needs_background": "light"
     },
     "output_type": "display_data"
    }
   ],
   "source": [
    "plot(X @ Rot(-45) @ Fx @ stretchy(2) @ Rot(45) , groups)"
   ]
  },
  {
   "cell_type": "markdown",
   "id": "e83393dd-9f45-4c41-9def-58d92ba7ab69",
   "metadata": {},
   "source": [
    "# 4. Rotate Krazy Kat (27 points)"
   ]
  },
  {
   "cell_type": "markdown",
   "id": "97581ddb-7b55-4187-9361-fd4651b6b530",
   "metadata": {},
   "source": [
    "### 1. (5 × 3pt) Get the code to run and understand what it does. In particular"
   ]
  },
  {
   "cell_type": "markdown",
   "id": "e3e78483-7a0f-4bb2-babf-5657c3d74b59",
   "metadata": {},
   "source": [
    "#### (a) Get the code to run"
   ]
  },
  {
   "cell_type": "code",
   "execution_count": 18,
   "id": "82e43e39-cf7b-4346-8890-dd0a9fa38530",
   "metadata": {},
   "outputs": [
    {
     "name": "stdout",
     "output_type": "stream",
     "text": [
      "shape: (90, 100)\n"
     ]
    },
    {
     "data": {
      "image/png": "[encoded data removed]",
      "text/plain": [
       "<Figure size 216x216 with 1 Axes>"
      ]
     },
     "metadata": {
      "needs_background": "light"
     },
     "output_type": "display_data"
    }
   ],
   "source": [
    "from matplotlib.image import imread\n",
    "img = imread('../data/krazy-kat-100.png')\n",
    "# note: rows * columns (not width * height!)\n",
    "print(\"shape:\", img.shape)\n",
    "## create coordinate matrix\n",
    "xx, yy = np.meshgrid(np.arange(img.shape[1]), np.arange(img.shape[0], 0, -1)) \n",
    "X = np.column_stack((xx.ravel(), yy.ravel()))\n",
    "fig = plt.figure(figsize=(3,3))\n",
    "ax = fig.add_subplot(1,1,1)\n",
    "ax.scatter(X[:,0], X[:,1], c=img.ravel(), marker=\".\",cmap=\"Greys_r\") \n",
    "ax.set_aspect(\"equal\")\n",
    "plt.show()"
   ]
  },
  {
   "cell_type": "markdown",
   "id": "b810640d-252d-4679-a4e6-c06e42574e74",
   "metadata": {},
   "source": [
    "#### (b) What is the matrix X that is made by stacking?"
   ]
  },
  {
   "cell_type": "markdown",
   "id": "fc3b1935-3fd8-4840-b15e-3bb89e431a00",
   "metadata": {},
   "source": [
    "X contains the (x,y) coordinates of the image. In other words, the horizontal and vertical positions of each pixel."
   ]
  },
  {
   "cell_type": "markdown",
   "id": "c1e91dd2-8c8c-4985-a631-b7a217955b26",
   "metadata": {},
   "source": [
    "#### (c) How many rows does X have? What does it mean, why does it have this many rows it has?"
   ]
  },
  {
   "cell_type": "code",
   "execution_count": 19,
   "id": "2dbc444e-3305-4cbd-acfc-54508fcfb352",
   "metadata": {},
   "outputs": [
    {
     "data": {
      "text/plain": [
       "9000"
      ]
     },
     "execution_count": 19,
     "metadata": {},
     "output_type": "execute_result"
    }
   ],
   "source": [
    "len(X)"
   ]
  },
  {
   "cell_type": "markdown",
   "id": "110a3b94-ed4b-4a33-b366-58beb4af660c",
   "metadata": {},
   "source": [
    "X has 9,000 rows. This means that there are 9,000 pixels in the image."
   ]
  },
  {
   "cell_type": "markdown",
   "id": "eeceb06b-9cb1-480e-8e4f-c492d4c09d78",
   "metadata": {},
   "source": [
    "#### (d) A few lines of X may look like...(refer to PS3 assignment). What do these three lines denote?"
   ]
  },
  {
   "cell_type": "markdown",
   "id": "ab9dc2dd-67e0-4245-99f9-3847a9122526",
   "metadata": {},
   "source": [
    "These 3 points means creates a straight line."
   ]
  },
  {
   "cell_type": "markdown",
   "id": "bcc9f3db-7e5f-45bc-b753-5b028688081d",
   "metadata": {},
   "source": [
    "#### (e) What is img matrix? If may contain values like (0.9882353, 0.99215686, 0.99607843, 1). What do these values denote?\n",
    "The image matrix is just the darkness of the colors.\n",
    "\n",
    "Those values represents the darkness of the color. Depending on the computer, the closer it is to the number 1, the darker it will be."
   ]
  },
  {
   "cell_type": "markdown",
   "id": "07b1c46e-a4aa-423e-aed3-dea834bc618c",
   "metadata": {},
   "source": [
    "### 2. (8pt) Now use matrix multiplication to rotate this image by a few different angles. Note: use matrix rotation we did above, various image libraries will not count!\n",
    "#### Suggestion: when you use the code like shown above, it may result in large and slow pdf (or html) files. You can make the pdf faster by:\n",
    "#### (a) instead of plt.show, save the image into a jpg or png file. (b) put the resulting saved file into your pdf/html."
   ]
  },
  {
   "cell_type": "code",
   "execution_count": 20,
   "id": "c82c464e-c373-4192-af35-5420f6a390a0",
   "metadata": {},
   "outputs": [
    {
     "data": {
      "image/png": "[encoded data removed]",
      "text/plain": [
       "<Figure size 216x216 with 1 Axes>"
      ]
     },
     "metadata": {
      "needs_background": "light"
     },
     "output_type": "display_data"
    }
   ],
   "source": [
    "X = X @ Rot(45)\n",
    "fig = plt.figure(figsize=(3,3))\n",
    "ax = fig.add_subplot(1,1,1)\n",
    "ax.scatter(X[:,0], X[:,1], c=img.ravel(), marker=\".\",cmap=\"Greys_r\") \n",
    "ax.set_aspect(\"equal\")\n",
    "plt.show()"
   ]
  },
  {
   "cell_type": "markdown",
   "id": "6b29b4f7-d1e9-4f0b-9090-e5d4004be849",
   "metadata": {},
   "source": [
    "### 3. (4pt) Use also other transforms (Fx and Sy) to manipulate the image."
   ]
  },
  {
   "cell_type": "code",
   "execution_count": 21,
   "id": "3dddbfa0-429c-406c-ae6f-184fcf58844f",
   "metadata": {},
   "outputs": [
    {
     "data": {
      "image/png": "[encoded data removed]",
      "text/plain": [
       "<Figure size 216x216 with 1 Axes>"
      ]
     },
     "metadata": {
      "needs_background": "light"
     },
     "output_type": "display_data"
    }
   ],
   "source": [
    "X = X @ Fx\n",
    "fig = plt.figure(figsize=(3,3))\n",
    "ax = fig.add_subplot(1,1,1)\n",
    "ax.scatter(X[:,0], X[:,1], c=img.ravel(), marker=\".\",cmap=\"Greys_r\") \n",
    "ax.set_aspect(\"equal\")\n",
    "plt.show()"
   ]
  },
  {
   "cell_type": "code",
   "execution_count": 22,
   "id": "458cacc3-24c4-479a-9b18-cdd80ba8ef64",
   "metadata": {},
   "outputs": [
    {
     "data": {
      "image/png": "[encoded data removed]",
      "text/plain": [
       "<Figure size 216x216 with 1 Axes>"
      ]
     },
     "metadata": {
      "needs_background": "light"
     },
     "output_type": "display_data"
    }
   ],
   "source": [
    "X = X @ stretchy(5)\n",
    "fig = plt.figure(figsize=(3,3))\n",
    "ax = fig.add_subplot(1,1,1)\n",
    "ax.scatter(X[:,0], X[:,1], c=img.ravel(), marker=\".\",cmap=\"Greys_r\") \n",
    "ax.set_aspect(\"equal\")\n",
    "plt.show()"
   ]
  },
  {
   "cell_type": "markdown",
   "id": "5bc49dd5-0b1a-4438-a54f-d6cd5889a391",
   "metadata": {},
   "source": [
    "# 5. Linear Regression (18pt)"
   ]
  },
  {
   "cell_type": "markdown",
   "id": "3c80191c-18cd-4423-a38a-19cfb52ca913",
   "metadata": {},
   "source": [
    "### 1. (1pt) Load boston housing data."
   ]
  },
  {
   "cell_type": "code",
   "execution_count": 23,
   "id": "ee99aec4-a625-459b-93b9-e16f475922e5",
   "metadata": {},
   "outputs": [
    {
     "data": {
      "text/html": [
       "<div>\n",
       "<style scoped>\n",
       "    .dataframe tbody tr th:only-of-type {\n",
       "        vertical-align: middle;\n",
       "    }\n",
       "\n",
       "    .dataframe tbody tr th {\n",
       "        vertical-align: top;\n",
       "    }\n",
       "\n",
       "    .dataframe thead th {\n",
       "        text-align: right;\n",
       "    }\n",
       "</style>\n",
       "<table border=\"1\" class=\"dataframe\">\n",
       "  <thead>\n",
       "    <tr style=\"text-align: right;\">\n",
       "      <th></th>\n",
       "      <th>crim</th>\n",
       "      <th>zn</th>\n",
       "      <th>indus</th>\n",
       "      <th>chas</th>\n",
       "      <th>nox</th>\n",
       "      <th>rm</th>\n",
       "      <th>age</th>\n",
       "      <th>dis</th>\n",
       "      <th>rad</th>\n",
       "      <th>tax</th>\n",
       "      <th>ptratio</th>\n",
       "      <th>black</th>\n",
       "      <th>lstat</th>\n",
       "      <th>medv</th>\n",
       "    </tr>\n",
       "  </thead>\n",
       "  <tbody>\n",
       "    <tr>\n",
       "      <th>0</th>\n",
       "      <td>0.00632</td>\n",
       "      <td>18.0</td>\n",
       "      <td>2.31</td>\n",
       "      <td>0</td>\n",
       "      <td>0.538</td>\n",
       "      <td>6.575</td>\n",
       "      <td>65.2</td>\n",
       "      <td>4.0900</td>\n",
       "      <td>1</td>\n",
       "      <td>296</td>\n",
       "      <td>15.3</td>\n",
       "      <td>396.90</td>\n",
       "      <td>4.98</td>\n",
       "      <td>24.0</td>\n",
       "    </tr>\n",
       "    <tr>\n",
       "      <th>1</th>\n",
       "      <td>0.02731</td>\n",
       "      <td>0.0</td>\n",
       "      <td>7.07</td>\n",
       "      <td>0</td>\n",
       "      <td>0.469</td>\n",
       "      <td>6.421</td>\n",
       "      <td>78.9</td>\n",
       "      <td>4.9671</td>\n",
       "      <td>2</td>\n",
       "      <td>242</td>\n",
       "      <td>17.8</td>\n",
       "      <td>396.90</td>\n",
       "      <td>9.14</td>\n",
       "      <td>21.6</td>\n",
       "    </tr>\n",
       "    <tr>\n",
       "      <th>2</th>\n",
       "      <td>0.02729</td>\n",
       "      <td>0.0</td>\n",
       "      <td>7.07</td>\n",
       "      <td>0</td>\n",
       "      <td>0.469</td>\n",
       "      <td>7.185</td>\n",
       "      <td>61.1</td>\n",
       "      <td>4.9671</td>\n",
       "      <td>2</td>\n",
       "      <td>242</td>\n",
       "      <td>17.8</td>\n",
       "      <td>392.83</td>\n",
       "      <td>4.03</td>\n",
       "      <td>34.7</td>\n",
       "    </tr>\n",
       "    <tr>\n",
       "      <th>3</th>\n",
       "      <td>0.03237</td>\n",
       "      <td>0.0</td>\n",
       "      <td>2.18</td>\n",
       "      <td>0</td>\n",
       "      <td>0.458</td>\n",
       "      <td>6.998</td>\n",
       "      <td>45.8</td>\n",
       "      <td>6.0622</td>\n",
       "      <td>3</td>\n",
       "      <td>222</td>\n",
       "      <td>18.7</td>\n",
       "      <td>394.63</td>\n",
       "      <td>2.94</td>\n",
       "      <td>33.4</td>\n",
       "    </tr>\n",
       "    <tr>\n",
       "      <th>4</th>\n",
       "      <td>0.06905</td>\n",
       "      <td>0.0</td>\n",
       "      <td>2.18</td>\n",
       "      <td>0</td>\n",
       "      <td>0.458</td>\n",
       "      <td>7.147</td>\n",
       "      <td>54.2</td>\n",
       "      <td>6.0622</td>\n",
       "      <td>3</td>\n",
       "      <td>222</td>\n",
       "      <td>18.7</td>\n",
       "      <td>396.90</td>\n",
       "      <td>5.33</td>\n",
       "      <td>36.2</td>\n",
       "    </tr>\n",
       "  </tbody>\n",
       "</table>\n",
       "</div>"
      ],
      "text/plain": [
       "      crim    zn  indus  chas    nox     rm   age     dis  rad  tax  ptratio  \\\n",
       "0  0.00632  18.0   2.31     0  0.538  6.575  65.2  4.0900    1  296     15.3   \n",
       "1  0.02731   0.0   7.07     0  0.469  6.421  78.9  4.9671    2  242     17.8   \n",
       "2  0.02729   0.0   7.07     0  0.469  7.185  61.1  4.9671    2  242     17.8   \n",
       "3  0.03237   0.0   2.18     0  0.458  6.998  45.8  6.0622    3  222     18.7   \n",
       "4  0.06905   0.0   2.18     0  0.458  7.147  54.2  6.0622    3  222     18.7   \n",
       "\n",
       "    black  lstat  medv  \n",
       "0  396.90   4.98  24.0  \n",
       "1  396.90   9.14  21.6  \n",
       "2  392.83   4.03  34.7  \n",
       "3  394.63   2.94  33.4  \n",
       "4  396.90   5.33  36.2  "
      ]
     },
     "execution_count": 23,
     "metadata": {},
     "output_type": "execute_result"
    }
   ],
   "source": [
    "boston = pd.read_csv(\"../data/boston.csv.bz2\", sep=\"\\t\")\n",
    "boston.head()"
   ]
  },
  {
   "cell_type": "markdown",
   "id": "c8fea12e-63b4-44e1-bec7-5ff085d66138",
   "metadata": {},
   "source": [
    "### 2. (3pt) Run a linear regression model in the form medvi +β0 +β1 ·rmi +β2 ·lstati +β3 ·zni +εi (2)"
   ]
  },
  {
   "cell_type": "code",
   "execution_count": 24,
   "id": "844fc544-531f-4e16-83d1-91c9eab483c3",
   "metadata": {},
   "outputs": [
    {
     "data": {
      "text/html": [
       "<table class=\"simpletable\">\n",
       "<caption>OLS Regression Results</caption>\n",
       "<tr>\n",
       "  <th>Dep. Variable:</th>          <td>medv</td>       <th>  R-squared:         </th> <td>   0.640</td> \n",
       "</tr>\n",
       "<tr>\n",
       "  <th>Model:</th>                   <td>OLS</td>       <th>  Adj. R-squared:    </th> <td>   0.638</td> \n",
       "</tr>\n",
       "<tr>\n",
       "  <th>Method:</th>             <td>Least Squares</td>  <th>  F-statistic:       </th> <td>   297.3</td> \n",
       "</tr>\n",
       "<tr>\n",
       "  <th>Date:</th>             <td>Sat, 23 Apr 2022</td> <th>  Prob (F-statistic):</th> <td>6.65e-111</td>\n",
       "</tr>\n",
       "<tr>\n",
       "  <th>Time:</th>                 <td>23:42:41</td>     <th>  Log-Likelihood:    </th> <td> -1581.8</td> \n",
       "</tr>\n",
       "<tr>\n",
       "  <th>No. Observations:</th>      <td>   506</td>      <th>  AIC:               </th> <td>   3172.</td> \n",
       "</tr>\n",
       "<tr>\n",
       "  <th>Df Residuals:</th>          <td>   502</td>      <th>  BIC:               </th> <td>   3189.</td> \n",
       "</tr>\n",
       "<tr>\n",
       "  <th>Df Model:</th>              <td>     3</td>      <th>                     </th>     <td> </td>    \n",
       "</tr>\n",
       "<tr>\n",
       "  <th>Covariance Type:</th>      <td>nonrobust</td>    <th>                     </th>     <td> </td>    \n",
       "</tr>\n",
       "</table>\n",
       "<table class=\"simpletable\">\n",
       "<tr>\n",
       "      <td></td>         <th>coef</th>     <th>std err</th>      <th>t</th>      <th>P>|t|</th>  <th>[0.025</th>    <th>0.975]</th>  \n",
       "</tr>\n",
       "<tr>\n",
       "  <th>Intercept</th> <td>   -1.4606</td> <td>    3.171</td> <td>   -0.461</td> <td> 0.645</td> <td>   -7.691</td> <td>    4.770</td>\n",
       "</tr>\n",
       "<tr>\n",
       "  <th>rm</th>        <td>    5.0455</td> <td>    0.446</td> <td>   11.324</td> <td> 0.000</td> <td>    4.170</td> <td>    5.921</td>\n",
       "</tr>\n",
       "<tr>\n",
       "  <th>lstat</th>     <td>   -0.6240</td> <td>    0.046</td> <td>  -13.644</td> <td> 0.000</td> <td>   -0.714</td> <td>   -0.534</td>\n",
       "</tr>\n",
       "<tr>\n",
       "  <th>zn</th>        <td>    0.0158</td> <td>    0.012</td> <td>    1.359</td> <td> 0.175</td> <td>   -0.007</td> <td>    0.039</td>\n",
       "</tr>\n",
       "</table>\n",
       "<table class=\"simpletable\">\n",
       "<tr>\n",
       "  <th>Omnibus:</th>       <td>150.432</td> <th>  Durbin-Watson:     </th> <td>   0.824</td> \n",
       "</tr>\n",
       "<tr>\n",
       "  <th>Prob(Omnibus):</th> <td> 0.000</td>  <th>  Jarque-Bera (JB):  </th> <td> 487.567</td> \n",
       "</tr>\n",
       "<tr>\n",
       "  <th>Skew:</th>          <td> 1.376</td>  <th>  Prob(JB):          </th> <td>1.34e-106</td>\n",
       "</tr>\n",
       "<tr>\n",
       "  <th>Kurtosis:</th>      <td> 6.943</td>  <th>  Cond. No.          </th> <td>    343.</td> \n",
       "</tr>\n",
       "</table><br/><br/>Notes:<br/>[1] Standard Errors assume that the covariance matrix of the errors is correctly specified."
      ],
      "text/plain": [
       "<class 'statsmodels.iolib.summary.Summary'>\n",
       "\"\"\"\n",
       "                            OLS Regression Results                            \n",
       "==============================================================================\n",
       "Dep. Variable:                   medv   R-squared:                       0.640\n",
       "Model:                            OLS   Adj. R-squared:                  0.638\n",
       "Method:                 Least Squares   F-statistic:                     297.3\n",
       "Date:                Sat, 23 Apr 2022   Prob (F-statistic):          6.65e-111\n",
       "Time:                        23:42:41   Log-Likelihood:                -1581.8\n",
       "No. Observations:                 506   AIC:                             3172.\n",
       "Df Residuals:                     502   BIC:                             3189.\n",
       "Df Model:                           3                                         \n",
       "Covariance Type:            nonrobust                                         \n",
       "==============================================================================\n",
       "                 coef    std err          t      P>|t|      [0.025      0.975]\n",
       "------------------------------------------------------------------------------\n",
       "Intercept     -1.4606      3.171     -0.461      0.645      -7.691       4.770\n",
       "rm             5.0455      0.446     11.324      0.000       4.170       5.921\n",
       "lstat         -0.6240      0.046    -13.644      0.000      -0.714      -0.534\n",
       "zn             0.0158      0.012      1.359      0.175      -0.007       0.039\n",
       "==============================================================================\n",
       "Omnibus:                      150.432   Durbin-Watson:                   0.824\n",
       "Prob(Omnibus):                  0.000   Jarque-Bera (JB):              487.567\n",
       "Skew:                           1.376   Prob(JB):                    1.34e-106\n",
       "Kurtosis:                       6.943   Cond. No.                         343.\n",
       "==============================================================================\n",
       "\n",
       "Notes:\n",
       "[1] Standard Errors assume that the covariance matrix of the errors is correctly specified.\n",
       "\"\"\""
      ]
     },
     "execution_count": 24,
     "metadata": {},
     "output_type": "execute_result"
    }
   ],
   "source": [
    "import statsmodels.formula.api as smf\n",
    "smf.ols(\"medv ~ rm + lstat + zn\", data=boston).fit().summary()"
   ]
  },
  {
   "cell_type": "markdown",
   "id": "8adad0c1-f6aa-490c-be62-2ad87db59eb5",
   "metadata": {},
   "source": [
    "### 3. (8pt) Next, the most complex task–create the design matrix X for this regression model. You have to create a matrix that contains four columns: a) column of ones, and b) three columns of the variables you use in the model."
   ]
  },
  {
   "cell_type": "code",
   "execution_count": 25,
   "id": "9d64f1d3-f817-4b58-8331-acea467eac9a",
   "metadata": {},
   "outputs": [
    {
     "data": {
      "text/plain": [
       "506"
      ]
     },
     "execution_count": 25,
     "metadata": {},
     "output_type": "execute_result"
    }
   ],
   "source": [
    "X = boston[[\"rm\", \"lstat\", \"zn\"]].values\n",
    "len(X)"
   ]
  },
  {
   "cell_type": "code",
   "execution_count": 26,
   "id": "2e8da67a-003f-4809-a860-b24fb3d37cd7",
   "metadata": {},
   "outputs": [],
   "source": [
    "ones = np.ones(shape=(len(X), 1))"
   ]
  },
  {
   "cell_type": "code",
   "execution_count": 27,
   "id": "eac77853-f0db-47d9-92a9-797c5e18bbc4",
   "metadata": {},
   "outputs": [
    {
     "data": {
      "text/plain": [
       "array([[ 1.   ,  6.575,  4.98 , 18.   ],\n",
       "       [ 1.   ,  6.421,  9.14 ,  0.   ],\n",
       "       [ 1.   ,  7.185,  4.03 ,  0.   ],\n",
       "       ...,\n",
       "       [ 1.   ,  6.976,  5.64 ,  0.   ],\n",
       "       [ 1.   ,  6.794,  6.48 ,  0.   ],\n",
       "       [ 1.   ,  6.03 ,  7.88 ,  0.   ]])"
      ]
     },
     "execution_count": 27,
     "metadata": {},
     "output_type": "execute_result"
    }
   ],
   "source": [
    "X = np.column_stack((ones, X))\n",
    "X"
   ]
  },
  {
   "cell_type": "markdown",
   "id": "0a3cc84e-262b-4e38-ac04-3ddd39c598d6",
   "metadata": {},
   "source": [
    "### 4. (2pt) Create the outcome vector y. Just transform the medv column to a vector. (In R it will be vector anyway.)"
   ]
  },
  {
   "cell_type": "code",
   "execution_count": 28,
   "id": "997277f1-3f28-43e1-9227-7825a5fcde2f",
   "metadata": {},
   "outputs": [
    {
     "data": {
      "text/plain": [
       "506"
      ]
     },
     "execution_count": 28,
     "metadata": {},
     "output_type": "execute_result"
    }
   ],
   "source": [
    "y = boston[[\"medv\"]].values\n",
    "len(y)"
   ]
  },
  {
   "cell_type": "markdown",
   "id": "6c18973c-b3d2-433c-a9fb-0f9497e823e3",
   "metadata": {},
   "source": [
    "### 5. (3pt) Compute the solution–your estimate for the parameter vector β using (1).\n",
    "#### Hint: numpy inverts matrix with function np.linalg.inv, in R you can use solve."
   ]
  },
  {
   "cell_type": "code",
   "execution_count": 29,
   "id": "99c562ed-3235-4f3d-a3b2-9d41d9a4b7f1",
   "metadata": {},
   "outputs": [
    {
     "data": {
      "text/plain": [
       "array([[-1.46057734],\n",
       "       [ 5.04554308],\n",
       "       [-0.62401045],\n",
       "       [ 0.01580778]])"
      ]
     },
     "execution_count": 29,
     "metadata": {},
     "output_type": "execute_result"
    }
   ],
   "source": [
    "(np.linalg.inv(X.T @ X) @ X.T) @ y"
   ]
  },
  {
   "cell_type": "markdown",
   "id": "9d160eab-4810-42fc-b84d-b0b304bee8e0",
   "metadata": {},
   "source": [
    "### 6. (1pt) Compare the results–your computed β estimate should be exactly the same that you see in the linear regression table."
   ]
  },
  {
   "cell_type": "markdown",
   "id": "9dd2bd46-38eb-492b-8785-fecf8a265410",
   "metadata": {},
   "source": [
    "The results I got were exactly the same as the one in the linear regression table!"
   ]
  },
  {
   "cell_type": "markdown",
   "id": "8b10e008-05ba-4d24-a8a5-f54cfce58290",
   "metadata": {},
   "source": [
    "# Finally... How much time did you spend on this PS?\n",
    "I spent around 6 hours on this PS"
   ]
  },
  {
   "cell_type": "code",
   "execution_count": null,
   "id": "8547ef2a-d359-4c8a-b6ff-40786337c3c3",
   "metadata": {},
   "outputs": [],
   "source": []
  }
 ],
 "metadata": {
  "kernelspec": {
   "display_name": "Python 3 (ipykernel)",
   "language": "python",
   "name": "python3"
  },
  "language_info": {
   "codemirror_mode": {
    "name": "ipython",
    "version": 3
   },
   "file_extension": ".py",
   "mimetype": "text/x-python",
   "name": "python",
   "nbconvert_exporter": "python",
   "pygments_lexer": "ipython3",
   "version": "3.9.7"
  }
 },
 "nbformat": 4,
 "nbformat_minor": 5
}
